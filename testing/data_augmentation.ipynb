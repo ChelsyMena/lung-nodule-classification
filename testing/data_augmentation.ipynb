{
 "cells": [
  {
   "cell_type": "code",
   "execution_count": 1,
   "id": "bcd82028",
   "metadata": {},
   "outputs": [
    {
     "name": "stderr",
     "output_type": "stream",
     "text": [
      "c:\\Users\\USER\\envs\\env_lungcancer\\lib\\site-packages\\torchvision\\datapoints\\__init__.py:12: UserWarning: The torchvision.datapoints and torchvision.transforms.v2 namespaces are still Beta. While we do not expect major breaking changes, some APIs may still change according to user feedback. Please submit any feedback you may have in this issue: https://github.com/pytorch/vision/issues/6753, and you can also check out https://github.com/pytorch/vision/issues/7319 to learn more about the APIs that we suspect might involve future changes. You can silence this warning by calling torchvision.disable_beta_transforms_warning().\n",
      "  warnings.warn(_BETA_TRANSFORMS_WARNING)\n",
      "c:\\Users\\USER\\envs\\env_lungcancer\\lib\\site-packages\\torchvision\\transforms\\v2\\__init__.py:54: UserWarning: The torchvision.datapoints and torchvision.transforms.v2 namespaces are still Beta. While we do not expect major breaking changes, some APIs may still change according to user feedback. Please submit any feedback you may have in this issue: https://github.com/pytorch/vision/issues/6753, and you can also check out https://github.com/pytorch/vision/issues/7319 to learn more about the APIs that we suspect might involve future changes. You can silence this warning by calling torchvision.disable_beta_transforms_warning().\n",
      "  warnings.warn(_BETA_TRANSFORMS_WARNING)\n"
     ]
    }
   ],
   "source": [
    "from pathlib import Path\n",
    "from dotenv import load_dotenv\n",
    "import os\n",
    "\n",
    "load_dotenv()\n",
    "\n",
    "import sys\n",
    "import os\n",
    "notebook_dir = os.getcwd()\n",
    "sys.path.append(os.path.abspath(os.path.join(notebook_dir, '..')))\n",
    "volumes_dir = Path(os.getenv(\"VOLUME_DIR\"))\n",
    "\n",
    "import torch\n",
    "from torchvision.transforms import v2\n",
    "\n",
    "from training.experiment_config import config\n",
    "from training.dataloader import get_data_loader\n",
    "\n",
    "from tqdm import tqdm\n",
    "import numpy as np\n",
    "import pandas as pd\n",
    "\n",
    "import warnings\n",
    "warnings.filterwarnings(\"ignore\")\n",
    "warnings.filterwarnings(\"ignore\", category=UserWarning, module=\"torchvision\")\n",
    "warnings.filterwarnings(\"ignore\", category=UserWarning, module=\"pandas\")"
   ]
  },
  {
   "cell_type": "code",
   "execution_count": 2,
   "id": "aabda68d",
   "metadata": {},
   "outputs": [],
   "source": [
    "train = pd.read_csv(config.CSV_DIR_TRAIN)\n",
    "train_ones = train[train[\"label\"] == 1].reset_index(drop=True)\n",
    "train_zeros = train[train[\"label\"] == 0].reset_index(drop=True)\n",
    "\n",
    "image_loader = get_data_loader(\n",
    "\t\tdata_dir=config.DATADIR,\n",
    "\t\tdataset=train_ones,\n",
    "\t\tmode=config.MODE,\n",
    "\t\tworkers=8,\n",
    "\t\tbatch_size=config.BATCH_SIZE,\n",
    "\t\tsize_px=config.SIZE_PX,\n",
    "\t\tsize_mm=config.SIZE_MM,\n",
    "\t\trotations=config.ROTATION,\n",
    "\t\ttranslations=config.TRANSLATION,\n",
    "\t\t)"
   ]
  },
  {
   "cell_type": "code",
   "execution_count": 24,
   "id": "f71aab6a",
   "metadata": {},
   "outputs": [
    {
     "data": {
      "text/html": [
       "<div>\n",
       "<style scoped>\n",
       "    .dataframe tbody tr th:only-of-type {\n",
       "        vertical-align: middle;\n",
       "    }\n",
       "\n",
       "    .dataframe tbody tr th {\n",
       "        vertical-align: top;\n",
       "    }\n",
       "\n",
       "    .dataframe thead th {\n",
       "        text-align: right;\n",
       "    }\n",
       "</style>\n",
       "<table border=\"1\" class=\"dataframe\">\n",
       "  <thead>\n",
       "    <tr style=\"text-align: right;\">\n",
       "      <th></th>\n",
       "      <th>PatientID</th>\n",
       "      <th>SeriesInstanceUID</th>\n",
       "      <th>StudyDate</th>\n",
       "      <th>CoordX</th>\n",
       "      <th>CoordY</th>\n",
       "      <th>CoordZ</th>\n",
       "      <th>LesionID</th>\n",
       "      <th>AnnotationID</th>\n",
       "      <th>NoduleID</th>\n",
       "      <th>Age_at_StudyDate</th>\n",
       "      <th>Gender</th>\n",
       "      <th>label</th>\n",
       "    </tr>\n",
       "  </thead>\n",
       "  <tbody>\n",
       "    <tr>\n",
       "      <th>0</th>\n",
       "      <td>104839</td>\n",
       "      <td>1.2.840.113654.2.55.30936757672243920224031101...</td>\n",
       "      <td>19990102</td>\n",
       "      <td>122.39</td>\n",
       "      <td>71.28</td>\n",
       "      <td>-220.84</td>\n",
       "      <td>1</td>\n",
       "      <td>104839_1_19990102</td>\n",
       "      <td>104839_1</td>\n",
       "      <td>55</td>\n",
       "      <td>Male</td>\n",
       "      <td>1</td>\n",
       "    </tr>\n",
       "    <tr>\n",
       "      <th>1</th>\n",
       "      <td>109345</td>\n",
       "      <td>1.2.840.113654.2.55.30950357318430274435755858...</td>\n",
       "      <td>19990102</td>\n",
       "      <td>57.68</td>\n",
       "      <td>-104.72</td>\n",
       "      <td>-62.51</td>\n",
       "      <td>1</td>\n",
       "      <td>109345_1_19990102</td>\n",
       "      <td>109345_1</td>\n",
       "      <td>62</td>\n",
       "      <td>Male</td>\n",
       "      <td>1</td>\n",
       "    </tr>\n",
       "    <tr>\n",
       "      <th>2</th>\n",
       "      <td>202952</td>\n",
       "      <td>1.3.6.1.4.1.14519.5.2.1.7009.9004.209354409551...</td>\n",
       "      <td>19990102</td>\n",
       "      <td>87.32</td>\n",
       "      <td>34.90</td>\n",
       "      <td>-80.11</td>\n",
       "      <td>1</td>\n",
       "      <td>202952_1_19990102</td>\n",
       "      <td>202952_1</td>\n",
       "      <td>56</td>\n",
       "      <td>Female</td>\n",
       "      <td>1</td>\n",
       "    </tr>\n",
       "    <tr>\n",
       "      <th>3</th>\n",
       "      <td>112901</td>\n",
       "      <td>1.2.840.113654.2.55.20259099074923358727086752...</td>\n",
       "      <td>20000102</td>\n",
       "      <td>-71.53</td>\n",
       "      <td>38.67</td>\n",
       "      <td>-37.77</td>\n",
       "      <td>1</td>\n",
       "      <td>112901_1_20000102</td>\n",
       "      <td>112901_1</td>\n",
       "      <td>69</td>\n",
       "      <td>Female</td>\n",
       "      <td>1</td>\n",
       "    </tr>\n",
       "    <tr>\n",
       "      <th>4</th>\n",
       "      <td>211570</td>\n",
       "      <td>1.3.6.1.4.1.14519.5.2.1.7009.9004.195185449252...</td>\n",
       "      <td>20000102</td>\n",
       "      <td>-56.20</td>\n",
       "      <td>-17.22</td>\n",
       "      <td>-71.04</td>\n",
       "      <td>1</td>\n",
       "      <td>211570_1_20000102</td>\n",
       "      <td>211570_1</td>\n",
       "      <td>64</td>\n",
       "      <td>Male</td>\n",
       "      <td>1</td>\n",
       "    </tr>\n",
       "  </tbody>\n",
       "</table>\n",
       "</div>"
      ],
      "text/plain": [
       "   PatientID                                  SeriesInstanceUID  StudyDate  \\\n",
       "0     104839  1.2.840.113654.2.55.30936757672243920224031101...   19990102   \n",
       "1     109345  1.2.840.113654.2.55.30950357318430274435755858...   19990102   \n",
       "2     202952  1.3.6.1.4.1.14519.5.2.1.7009.9004.209354409551...   19990102   \n",
       "3     112901  1.2.840.113654.2.55.20259099074923358727086752...   20000102   \n",
       "4     211570  1.3.6.1.4.1.14519.5.2.1.7009.9004.195185449252...   20000102   \n",
       "\n",
       "   CoordX  CoordY  CoordZ  LesionID       AnnotationID  NoduleID  \\\n",
       "0  122.39   71.28 -220.84         1  104839_1_19990102  104839_1   \n",
       "1   57.68 -104.72  -62.51         1  109345_1_19990102  109345_1   \n",
       "2   87.32   34.90  -80.11         1  202952_1_19990102  202952_1   \n",
       "3  -71.53   38.67  -37.77         1  112901_1_20000102  112901_1   \n",
       "4  -56.20  -17.22  -71.04         1  211570_1_20000102  211570_1   \n",
       "\n",
       "   Age_at_StudyDate  Gender  label  \n",
       "0                55    Male      1  \n",
       "1                62    Male      1  \n",
       "2                56  Female      1  \n",
       "3                69  Female      1  \n",
       "4                64    Male      1  "
      ]
     },
     "execution_count": 24,
     "metadata": {},
     "output_type": "execute_result"
    }
   ],
   "source": [
    "train_ones.head()"
   ]
  },
  {
   "cell_type": "code",
   "execution_count": null,
   "id": "d3d25c06",
   "metadata": {},
   "outputs": [],
   "source": [
    "for data in image_loader:\n",
    "\tdata_id = data['ID']\n",
    "\n",
    "\timage_location = volumes_dir / \"luna25_nodule_blocks\" / \"image\" / f\"{data_id}.npy\"\n",
    "\tmetadata_location = volumes_dir / \"luna25_nodule_blocks\" / \"metadata\" / f\"{data_id}.npy\"\n",
    "\t\n",
    "\tvolume = np.load(str(image_location))\n",
    "\tmetadata = np.load(str(metadata_location), allow_pickle=True).item()"
   ]
  },
  {
   "cell_type": "code",
   "execution_count": 4,
   "id": "d2d0e8e8",
   "metadata": {},
   "outputs": [],
   "source": [
    "image_location = volumes_dir / \"luna25_nodule_blocks\" / \"image\" / f\"112901_1_20000102.npy\"\n",
    "metadata_location = volumes_dir / \"luna25_nodule_blocks\" / \"metadata\" / f\"112901_1_20000102.npy\"\n",
    "\n",
    "volume = np.load(str(image_location))\n",
    "metadata = np.load(str(metadata_location), allow_pickle=True).item()"
   ]
  },
  {
   "cell_type": "code",
   "execution_count": 5,
   "id": "e21331b2",
   "metadata": {},
   "outputs": [
    {
     "data": {
      "text/plain": [
       "(64, 128, 128)"
      ]
     },
     "execution_count": 5,
     "metadata": {},
     "output_type": "execute_result"
    }
   ],
   "source": [
    "volume.shape"
   ]
  },
  {
   "cell_type": "code",
   "execution_count": 6,
   "id": "595f8144",
   "metadata": {},
   "outputs": [
    {
     "data": {
      "text/plain": [
       "{'origin': array([-117.46499634,    3.57499695, -106.4593811 ]),\n",
       " 'spacing': array([2.5     , 0.546875, 0.546875]),\n",
       " 'transform': array([[1., 0., 0.],\n",
       "        [0., 1., 0.],\n",
       "        [0., 0., 1.]])}"
      ]
     },
     "execution_count": 6,
     "metadata": {},
     "output_type": "execute_result"
    }
   ],
   "source": [
    "metadata"
   ]
  },
  {
   "cell_type": "code",
   "execution_count": null,
   "id": "ebbfd805",
   "metadata": {},
   "outputs": [],
   "source": [
    "import matplotlib.pyplot as plt\n",
    "image_np = image.permute(1, 2, 0).cpu().numpy()\n",
    "img_np = new_image.permute(1, 2, 0).cpu().numpy()\n",
    "\n",
    "plt.imshow(img_np)\n",
    "plt.axis('off')\n",
    "plt.title(f\"Modified image for ID: {data_id}\\nLabel: {label.item()}\")\n",
    "plt.show()\n",
    "\n",
    "plt.imshow(image_np)\n",
    "plt.axis('off')\n",
    "plt.show()"
   ]
  },
  {
   "cell_type": "code",
   "execution_count": 38,
   "id": "1b2b5d89",
   "metadata": {},
   "outputs": [
    {
     "data": {
      "text/plain": [
       "4034"
      ]
     },
     "execution_count": 38,
     "metadata": {},
     "output_type": "execute_result"
    }
   ],
   "source": [
    "n_samples_to_make = (len(train_zeros) - len(train_ones))\n",
    "n_samples_to_make"
   ]
  },
  {
   "cell_type": "code",
   "execution_count": 4,
   "id": "5c6c0da6",
   "metadata": {},
   "outputs": [
    {
     "name": "stderr",
     "output_type": "stream",
     "text": [
      "100%|██████████| 448/448 [00:37<00:00, 11.89it/s] \n"
     ]
    }
   ],
   "source": [
    "for data in tqdm(image_loader):\n",
    "\tcontinue"
   ]
  },
  {
   "cell_type": "code",
   "execution_count": 39,
   "id": "913e1387",
   "metadata": {},
   "outputs": [
    {
     "name": "stderr",
     "output_type": "stream",
     "text": [
      "100%|██████████| 448/448 [01:03<00:00,  7.10it/s]\n"
     ]
    },
    {
     "name": "stdout",
     "output_type": "stream",
     "text": [
      "Added 448 new images to the dataset.\n",
      "Currently, there are 896 positive samples and 4482 negative samples.\n",
      "\n"
     ]
    },
    {
     "name": "stderr",
     "output_type": "stream",
     "text": [
      "100%|██████████| 448/448 [01:01<00:00,  7.23it/s]\n"
     ]
    },
    {
     "name": "stdout",
     "output_type": "stream",
     "text": [
      "Added 896 new images to the dataset.\n",
      "Currently, there are 1344 positive samples and 4482 negative samples.\n",
      "\n"
     ]
    },
    {
     "name": "stderr",
     "output_type": "stream",
     "text": [
      "100%|██████████| 448/448 [00:57<00:00,  7.73it/s]\n"
     ]
    },
    {
     "name": "stdout",
     "output_type": "stream",
     "text": [
      "Added 1344 new images to the dataset.\n",
      "Currently, there are 1792 positive samples and 4482 negative samples.\n",
      "\n"
     ]
    },
    {
     "name": "stderr",
     "output_type": "stream",
     "text": [
      "100%|██████████| 448/448 [00:57<00:00,  7.75it/s]\n"
     ]
    },
    {
     "name": "stdout",
     "output_type": "stream",
     "text": [
      "Added 1792 new images to the dataset.\n",
      "Currently, there are 2240 positive samples and 4482 negative samples.\n",
      "\n"
     ]
    },
    {
     "name": "stderr",
     "output_type": "stream",
     "text": [
      "100%|██████████| 448/448 [00:59<00:00,  7.49it/s]\n"
     ]
    },
    {
     "name": "stdout",
     "output_type": "stream",
     "text": [
      "Added 2240 new images to the dataset.\n",
      "Currently, there are 2688 positive samples and 4482 negative samples.\n",
      "\n"
     ]
    },
    {
     "name": "stderr",
     "output_type": "stream",
     "text": [
      "100%|██████████| 448/448 [00:59<00:00,  7.51it/s]\n"
     ]
    },
    {
     "name": "stdout",
     "output_type": "stream",
     "text": [
      "Added 2688 new images to the dataset.\n",
      "Currently, there are 3136 positive samples and 4482 negative samples.\n",
      "\n"
     ]
    },
    {
     "name": "stderr",
     "output_type": "stream",
     "text": [
      "100%|██████████| 448/448 [00:58<00:00,  7.60it/s]\n"
     ]
    },
    {
     "name": "stdout",
     "output_type": "stream",
     "text": [
      "Added 3136 new images to the dataset.\n",
      "Currently, there are 3584 positive samples and 4482 negative samples.\n",
      "\n"
     ]
    },
    {
     "name": "stderr",
     "output_type": "stream",
     "text": [
      "100%|██████████| 448/448 [01:01<00:00,  7.34it/s]\n"
     ]
    },
    {
     "name": "stdout",
     "output_type": "stream",
     "text": [
      "Added 3584 new images to the dataset.\n",
      "Currently, there are 4032 positive samples and 4482 negative samples.\n",
      "\n"
     ]
    },
    {
     "name": "stderr",
     "output_type": "stream",
     "text": [
      "100%|██████████| 448/448 [01:01<00:00,  7.33it/s]\n"
     ]
    },
    {
     "name": "stdout",
     "output_type": "stream",
     "text": [
      "Added 4032 new images to the dataset.\n",
      "Currently, there are 4480 positive samples and 4482 negative samples.\n",
      "\n"
     ]
    },
    {
     "name": "stderr",
     "output_type": "stream",
     "text": [
      "100%|██████████| 448/448 [00:59<00:00,  7.49it/s]"
     ]
    },
    {
     "name": "stdout",
     "output_type": "stream",
     "text": [
      "Added 4480 new images to the dataset.\n",
      "Currently, there are 4928 positive samples and 4482 negative samples.\n",
      "\n"
     ]
    },
    {
     "name": "stderr",
     "output_type": "stream",
     "text": [
      "\n"
     ]
    }
   ],
   "source": [
    "i = 0\n",
    "while i <= (n_samples_to_make):\n",
    "\tfor data in tqdm(image_loader):\n",
    "\n",
    "\t\tlabel = data[\"label\"][0].float() #.to(device).item()\n",
    "\t\timage = data[\"image\"][0]\n",
    "\n",
    "\t\t# input augmentation\n",
    "\t\ttransforms = v2.Compose([\n",
    "\t\t\tv2.RandomHorizontalFlip(p=0.3),\n",
    "\t\t\tv2.RandomAffine(degrees=(-20, 20), translate=(0.1, 0.1), scale=(0.9, 1.1)),\n",
    "\t\t])\n",
    "\t\tnew_image = transforms(image)\n",
    "\t\tnew_image = torch.stack([new_image[0]]*64, dim=0)\n",
    "\t\t\n",
    "\t\t# guardar nuevo bloque de imagen\n",
    "\t\tnew_AnnotationID = f\"1_1_{str(i)}\"\n",
    "\t\tnew_image_location = volumes_dir / \"luna25_nodule_blocks\" / \"image\" / f\"{new_AnnotationID}.npy\"\n",
    "\t\t\n",
    "\t\tnew_metadata_location = volumes_dir / \"luna25_nodule_blocks\" / \"metadata\" / f\"{new_AnnotationID}.npy\"\n",
    "\t\tdummy_metadata = {\n",
    "\t\t\t\"origin\": np.array([0.0, 0.0, 0.0]),\n",
    "\t\t\t\"spacing\": np.array([1.0, 1.0, 1.0]),\n",
    "\t\t\t\"transform\": np.eye(3)\n",
    "\t\t}\n",
    "\t\t\n",
    "\t\tnp.save(str(new_image_location), new_image.numpy())\n",
    "\t\tnp.save(str(new_metadata_location), dummy_metadata)\n",
    "\n",
    "\t\ttrain_ones = pd.concat([\n",
    "\t\t\ttrain_ones,\n",
    "\t\t\tpd.DataFrame([{\n",
    "\t\t\t\t\"AnnotationID\": new_AnnotationID,\n",
    "\t\t\t\t\"label\": label.item(),\n",
    "\t\t\t}])],\n",
    "\t\t\tignore_index=True)\n",
    "\n",
    "\t\ti+=1\n",
    "\n",
    "\tprint(f\"\"\"Added {i} new images to the dataset.\n",
    "Currently, there are {len(train_ones)} positive samples and {len(train_zeros)} negative samples.\\n\"\"\")"
   ]
  },
  {
   "cell_type": "code",
   "execution_count": 42,
   "id": "3c248a6d",
   "metadata": {},
   "outputs": [
    {
     "data": {
      "text/plain": [
       "torch.Size([64, 64, 64])"
      ]
     },
     "execution_count": 42,
     "metadata": {},
     "output_type": "execute_result"
    }
   ],
   "source": [
    "new_image.shape"
   ]
  },
  {
   "cell_type": "code",
   "execution_count": 43,
   "id": "3f2295a9",
   "metadata": {},
   "outputs": [
    {
     "data": {
      "text/plain": [
       "-446"
      ]
     },
     "execution_count": 43,
     "metadata": {},
     "output_type": "execute_result"
    }
   ],
   "source": [
    "4482 - 4928"
   ]
  },
  {
   "cell_type": "code",
   "execution_count": 44,
   "id": "c939154f",
   "metadata": {},
   "outputs": [
    {
     "data": {
      "text/plain": [
       "1.0    4928\n",
       "0.0    4482\n",
       "Name: label, dtype: int64"
      ]
     },
     "execution_count": 44,
     "metadata": {},
     "output_type": "execute_result"
    }
   ],
   "source": [
    "train_new = pd.concat([train_zeros, train_ones], ignore_index=True)\n",
    "train_new.label.value_counts()"
   ]
  },
  {
   "cell_type": "code",
   "execution_count": 45,
   "id": "7073f4ba",
   "metadata": {},
   "outputs": [
    {
     "data": {
      "text/plain": [
       "0.0    4482\n",
       "1.0    4482\n",
       "Name: label, dtype: int64"
      ]
     },
     "execution_count": 45,
     "metadata": {},
     "output_type": "execute_result"
    }
   ],
   "source": [
    "train_new = train_new[:-446]\n",
    "train_new.label.value_counts()"
   ]
  },
  {
   "cell_type": "code",
   "execution_count": 46,
   "id": "e7ab62d1",
   "metadata": {},
   "outputs": [],
   "source": [
    "#train_new = pd.concat([train_ones, train_zeros], ignore_index=True)\n",
    "\n",
    "new_csv_location = volumes_dir / \"train_augmented.csv\"\n",
    "if not new_csv_location.parent.exists():\n",
    "\tnew_csv_location.parent.mkdir(parents=True)\n",
    "train_new.to_csv(str(new_csv_location), index=False)"
   ]
  },
  {
   "cell_type": "code",
   "execution_count": null,
   "id": "fa0b41f7",
   "metadata": {},
   "outputs": [],
   "source": []
  }
 ],
 "metadata": {
  "kernelspec": {
   "display_name": "Python 3",
   "language": "python",
   "name": "python3"
  },
  "language_info": {
   "codemirror_mode": {
    "name": "ipython",
    "version": 3
   },
   "file_extension": ".py",
   "mimetype": "text/x-python",
   "name": "python",
   "nbconvert_exporter": "python",
   "pygments_lexer": "ipython3",
   "version": "3.9.22"
  }
 },
 "nbformat": 4,
 "nbformat_minor": 5
}
